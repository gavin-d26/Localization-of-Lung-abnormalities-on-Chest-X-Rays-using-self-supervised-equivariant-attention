{
  "cells": [
    {
      "cell_type": "markdown",
      "metadata": {
        "id": "view-in-github",
        "colab_type": "text"
      },
      "source": [
        "<a href=\"https://colab.research.google.com/github/gavin-d26/Localization-of-Lung-abnormalities-on-Chest-X-Rays-using-self-supervised-equivariant-attention/blob/main/notebooks/Chest_xray_localization.ipynb\" target=\"_parent\"><img src=\"https://colab.research.google.com/assets/colab-badge.svg\" alt=\"Open In Colab\"/></a>"
      ]
    },
    {
      "cell_type": "markdown",
      "metadata": {
        "id": "iHv4y2xJnwec"
      },
      "source": [
        "Check GPU configuration.\n",
        "In this project Nvidia tesla P100 GPU was used. "
      ]
    },
    {
      "cell_type": "code",
      "execution_count": null,
      "metadata": {
        "id": "-aGtxOK2Zyeb"
      },
      "outputs": [],
      "source": [
        "!nvidia-smi"
      ]
    },
    {
      "cell_type": "markdown",
      "source": [
        "Clone the Repository "
      ],
      "metadata": {
        "id": "xWPZJz9JhFzB"
      }
    },
    {
      "cell_type": "code",
      "source": [
        "!git clone https://github.com/gavin-d26/Localization-of-Lung-abnormalities-on-Chest-X-Rays-using-self-supervised-equivariant-attention.git"
      ],
      "metadata": {
        "id": "5QtSS7dpg_Ed"
      },
      "execution_count": null,
      "outputs": []
    },
    {
      "cell_type": "markdown",
      "metadata": {
        "id": "14mfqzxLnLXt"
      },
      "source": [
        "Create a kaggle API token and upload the downloaded kaggle.json to the content directory."
      ]
    },
    {
      "cell_type": "code",
      "execution_count": null,
      "metadata": {
        "id": "TinVvnSqnQxM"
      },
      "outputs": [],
      "source": [
        "from google.colab import files\n",
        "files.upload()"
      ]
    },
    {
      "cell_type": "markdown",
      "metadata": {
        "id": "L50bM7zFoG6C"
      },
      "source": [
        "Create a directory named kaggle that will store the kaggle.json file,\n",
        "and display list of kaggle datasets.\n"
      ]
    },
    {
      "cell_type": "code",
      "execution_count": null,
      "metadata": {
        "id": "vBWd0lnnnSoe"
      },
      "outputs": [],
      "source": [
        "!mkdir ~/.kaggle\n",
        "!mv ./kaggle.json ~/.kaggle/\n",
        "!chmod 600 ~/.kaggle/kaggle.json\n",
        "!kaggle datasets list"
      ]
    },
    {
      "cell_type": "markdown",
      "metadata": {
        "id": "_WMbWO-BpoJH"
      },
      "source": [
        "Create a directory to save models"
      ]
    },
    {
      "cell_type": "code",
      "execution_count": null,
      "metadata": {
        "id": "mQEoLi_-pjac"
      },
      "outputs": [],
      "source": [
        "!mkdir saved_models"
      ]
    },
    {
      "cell_type": "markdown",
      "metadata": {
        "id": "7QEmAyznotkz"
      },
      "source": [
        "1.   Change current directory to project directory.\n",
        "2.   Download nih-chest-xrays dataset as a data.zip file into project directory.\n",
        "1.   Unzip the data.zip file.\n",
        "\n",
        "\n",
        "\n",
        "\n",
        "\n",
        "\n",
        "\n",
        "\n"
      ]
    },
    {
      "cell_type": "code",
      "source": [
        "%cd Localization-of-Lung-abnormalities-on-Chest-X-Rays-using-self-supervised-equivariant-attention\n",
        "!kaggle datasets download -d nih-chest-xrays/data\n",
        "!unzip \\*.zip  && rm *.zip"
      ],
      "metadata": {
        "id": "pMndxQI2hbD1"
      },
      "execution_count": null,
      "outputs": []
    },
    {
      "cell_type": "markdown",
      "metadata": {
        "id": "c3oUom0inFQ3"
      },
      "source": [
        "Install necessary packages"
      ]
    },
    {
      "cell_type": "code",
      "execution_count": null,
      "metadata": {
        "id": "i6xTIAOIUqG5"
      },
      "outputs": [],
      "source": [
        "!pip install -r requirements.txt"
      ]
    },
    {
      "cell_type": "markdown",
      "source": [
        "Login to Weights and Biases (wandb) for experiment tracking."
      ],
      "metadata": {
        "id": "5RmW2JdyeWHw"
      }
    },
    {
      "cell_type": "code",
      "source": [
        "!wandb login"
      ],
      "metadata": {
        "id": "F9cMDu2zeVLV"
      },
      "execution_count": null,
      "outputs": []
    },
    {
      "cell_type": "markdown",
      "source": [
        "Next, in weights and biases, create a new project titled \"chest-xray-localization\"."
      ],
      "metadata": {
        "id": "YoTDSEwBiJDZ"
      }
    },
    {
      "cell_type": "markdown",
      "metadata": {
        "id": "K9a8CplEp3yP"
      },
      "source": [
        "Run the trainpcm.py script with the folling options.\n",
        "\n",
        "1.   --savedirectory : Path to save directory\n",
        "2.   --model : Type of model (resnet50, resnet50PCM, efficientnetb4, efficientnetb4PCM)\n",
        "3.   --name : Name of current run\n",
        "4.   --project : Name of wandb project\n",
        "5.   --entity : Name of wandb entity (username) (for more info [link](https://docs.wandb.ai/ref/python/init))\n",
        " \n"
      ]
    },
    {
      "cell_type": "code",
      "execution_count": null,
      "metadata": {
        "id": "L-v3XXMdqHH8"
      },
      "outputs": [],
      "source": [
        "!python scripts/trainpcm.py --savedirectory /content/saved_models --model resnet50PCM --name resnet50PCM_V1 --project chest-xray-localization --entity YOUR_WANDB_USERNAME"
      ]
    },
    {
      "cell_type": "markdown",
      "source": [
        "Go to wandb to view results.\n",
        "\n",
        "\n",
        "1.   For classification, see AUROC_MACRO_TEST_Checkpoint in summary section.\n",
        "2.   For localization, see table titled RUNNAME-CW-default/pcm/pcm-rv_Checkpoint\n",
        "\n"
      ],
      "metadata": {
        "id": "5suXj49ilR_5"
      }
    }
  ],
  "metadata": {
    "colab": {
      "collapsed_sections": [],
      "name": "Chest-xray-localization.ipynb",
      "provenance": [],
      "authorship_tag": "ABX9TyPb4EX9UJ2Zu6od8QbWguX9",
      "include_colab_link": true
    },
    "kernelspec": {
      "display_name": "Python 3",
      "name": "python3"
    },
    "language_info": {
      "name": "python"
    },
    "gpuClass": "standard"
  },
  "nbformat": 4,
  "nbformat_minor": 0
}